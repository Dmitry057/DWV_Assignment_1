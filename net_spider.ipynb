{
 "cells": [
  {
   "cell_type": "code",
   "execution_count": 18,
   "metadata": {},
   "outputs": [],
   "source": [
    "import json\n",
    "import requests\n",
    "from bs4 import BeautifulSoup # parsing tool for wikipedia \n",
    "import sqlite3 as sql # database tool\n",
    "import pandas as pd\n",
    "\n",
    "page_url = \"https://en.wikipedia.org/wiki/List_of_highest-grossing_films\" # wikipedia page url\n",
    "base_wiki_url = \"https://en.wikipedia.org\" # base url for accessing additional pages\n",
    "response = requests.get(page_url) \n",
    "soup = BeautifulSoup(response.text, \"html.parser\")"
   ]
  },
  {
   "cell_type": "code",
   "execution_count": 19,
   "metadata": {},
   "outputs": [],
   "source": [
    "tables = soup.find_all(\"table\", class_=\"wikitable\")\n",
    "films_table = tables[0]\n",
    "\n",
    "rows = films_table.find_all(\"tr\")\n",
    "films = []\n",
    "\n",
    "# function to convert string representing revenue to int\n",
    "def str2int(string: str) -> int:\n",
    "    numeric = [char for char in string if char.isnumeric()]\n",
    "    return int(\"\".join(numeric))\n",
    "\n",
    "# iterate through rows (except header row) and extract film data\n",
    "for row in rows[1:]:\n",
    "    cells = row.find_all(\"td\")\n",
    "    headers = row.find_all(\"th\")\n",
    "\n",
    "    film_href = headers[0].find_all(\"a\")[0]\n",
    "\n",
    "    # collect all available data from the row\n",
    "    film = {\n",
    "        \"year\": cells[3].text.strip(),\n",
    "        \"title\": film_href.text.strip(),\n",
    "        \"revenue\": str2int(cells[2].text.strip()),\n",
    "        \"href\": film_href[\"href\"], # we will use this to access director and country data\n",
    "    }\n",
    "\n",
    "    films.append(film)\n"
   ]
  },
  {
   "cell_type": "code",
   "execution_count": null,
   "metadata": {},
   "outputs": [
    {
     "name": "stdout",
     "output_type": "stream",
     "text": [
      "Scraped data saved to 'highest_grossing_films.csv'\n"
     ]
    }
   ],
   "source": [
    "def save_to_csv(films, filename=\"highest_grossing_films.csv\"):\n",
    "    \"\"\"Save the extracted film data to a CSV file.\"\"\"\n",
    "    df = pd.DataFrame(films)\n",
    "    df.to_csv(filename, index=False)\n",
    "\n",
    "# Main execution\n",
    "save_to_csv(films)\n",
    "print(f\"Scraped data saved to 'highest_grossing_films.csv'\")"
   ]
  }
 ],
 "metadata": {
  "kernelspec": {
   "display_name": "Python 3",
   "language": "python",
   "name": "python3"
  },
  "language_info": {
   "codemirror_mode": {
    "name": "ipython",
    "version": 3
   },
   "file_extension": ".py",
   "mimetype": "text/x-python",
   "name": "python",
   "nbconvert_exporter": "python",
   "pygments_lexer": "ipython3",
   "version": "3.11.8"
  }
 },
 "nbformat": 4,
 "nbformat_minor": 2
}
